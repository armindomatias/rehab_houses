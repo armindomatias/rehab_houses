{
 "cells": [
  {
   "cell_type": "code",
   "execution_count": 2,
   "id": "ccf8287c",
   "metadata": {},
   "outputs": [],
   "source": [
    "import pandas as pd"
   ]
  },
  {
   "cell_type": "code",
   "execution_count": 3,
   "id": "c761d70d",
   "metadata": {},
   "outputs": [],
   "source": [
    "path_example_1 = \"../data/scraped_data/idealista_listing_34366468.json\"\n",
    "\n",
    "df = pd.read_json(path_example_1)"
   ]
  },
  {
   "cell_type": "code",
   "execution_count": 4,
   "id": "5af3ec14",
   "metadata": {},
   "outputs": [
    {
     "data": {
      "text/html": [
       "<div>\n",
       "<style scoped>\n",
       "    .dataframe tbody tr th:only-of-type {\n",
       "        vertical-align: middle;\n",
       "    }\n",
       "\n",
       "    .dataframe tbody tr th {\n",
       "        vertical-align: top;\n",
       "    }\n",
       "\n",
       "    .dataframe thead th {\n",
       "        text-align: right;\n",
       "    }\n",
       "</style>\n",
       "<table border=\"1\" class=\"dataframe\">\n",
       "  <thead>\n",
       "    <tr style=\"text-align: right;\">\n",
       "      <th></th>\n",
       "      <th>id</th>\n",
       "      <th>Url</th>\n",
       "      <th>title</th>\n",
       "      <th>price</th>\n",
       "      <th>description</th>\n",
       "      <th>location</th>\n",
       "      <th>characteristics</th>\n",
       "      <th>building</th>\n",
       "      <th>energyPerformance</th>\n",
       "      <th>amenities</th>\n",
       "      <th>...</th>\n",
       "      <th>MainImage</th>\n",
       "      <th>virtualTourUrl</th>\n",
       "      <th>propertySpecs</th>\n",
       "      <th>contactInfo</th>\n",
       "      <th>gallery</th>\n",
       "      <th>Map</th>\n",
       "      <th>mapImagePath</th>\n",
       "      <th>datadome</th>\n",
       "      <th>scrapedAt</th>\n",
       "      <th>status</th>\n",
       "    </tr>\n",
       "  </thead>\n",
       "  <tbody>\n",
       "    <tr>\n",
       "      <th>0</th>\n",
       "      <td>34366468</td>\n",
       "      <td>https://www.idealista.pt/imovel/34366468/</td>\n",
       "      <td>Apartamento t4 à venda na Avenida Rio de Janei...</td>\n",
       "      <td>670000 €</td>\n",
       "      <td>Apresentamos-lhe uma oportunidade única para i...</td>\n",
       "      <td>Bairro de Alvalade, Alvalade</td>\n",
       "      <td>[138 m² área bruta, T4, 3 casas de banho, Segu...</td>\n",
       "      <td>[2º andar, Sem elevador]</td>\n",
       "      <td>{}</td>\n",
       "      <td>[]</td>\n",
       "      <td>...</td>\n",
       "      <td>https://img4.idealista.pt/blur/WEB_DETAIL_TOP-...</td>\n",
       "      <td>https://my.matterport.com/show/?m=wHqbHvEDRDY&amp;...</td>\n",
       "      <td>{'rooms': 4, 'constructedArea': 138, 'bathroom...</td>\n",
       "      <td>{'reference': '265250063', 'professionalName':...</td>\n",
       "      <td>[{'url': 'https://img4.idealista.pt/blur/WEB_D...</td>\n",
       "      <td>{'src': 'https://maps.googleapis.com/maps/api/...</td>\n",
       "      <td>https://api.apify.com/v2/key-value-stores/AFGx...</td>\n",
       "      <td>Wg~RqgmUHeQPQ1JvIicz7mCNwW2wSL6GeePuoetEcLpL_T...</td>\n",
       "      <td>2025-08-16T23:10:03.982Z</td>\n",
       "      <td>success</td>\n",
       "    </tr>\n",
       "  </tbody>\n",
       "</table>\n",
       "<p>1 rows × 22 columns</p>\n",
       "</div>"
      ],
      "text/plain": [
       "         id                                        Url  \\\n",
       "0  34366468  https://www.idealista.pt/imovel/34366468/   \n",
       "\n",
       "                                               title     price  \\\n",
       "0  Apartamento t4 à venda na Avenida Rio de Janei...  670000 €   \n",
       "\n",
       "                                         description  \\\n",
       "0  Apresentamos-lhe uma oportunidade única para i...   \n",
       "\n",
       "                       location  \\\n",
       "0  Bairro de Alvalade, Alvalade   \n",
       "\n",
       "                                     characteristics  \\\n",
       "0  [138 m² área bruta, T4, 3 casas de banho, Segu...   \n",
       "\n",
       "                   building energyPerformance amenities  ...  \\\n",
       "0  [2º andar, Sem elevador]                {}        []  ...   \n",
       "\n",
       "                                           MainImage  \\\n",
       "0  https://img4.idealista.pt/blur/WEB_DETAIL_TOP-...   \n",
       "\n",
       "                                      virtualTourUrl  \\\n",
       "0  https://my.matterport.com/show/?m=wHqbHvEDRDY&...   \n",
       "\n",
       "                                       propertySpecs  \\\n",
       "0  {'rooms': 4, 'constructedArea': 138, 'bathroom...   \n",
       "\n",
       "                                         contactInfo  \\\n",
       "0  {'reference': '265250063', 'professionalName':...   \n",
       "\n",
       "                                             gallery  \\\n",
       "0  [{'url': 'https://img4.idealista.pt/blur/WEB_D...   \n",
       "\n",
       "                                                 Map  \\\n",
       "0  {'src': 'https://maps.googleapis.com/maps/api/...   \n",
       "\n",
       "                                        mapImagePath  \\\n",
       "0  https://api.apify.com/v2/key-value-stores/AFGx...   \n",
       "\n",
       "                                            datadome  \\\n",
       "0  Wg~RqgmUHeQPQ1JvIicz7mCNwW2wSL6GeePuoetEcLpL_T...   \n",
       "\n",
       "                  scrapedAt   status  \n",
       "0  2025-08-16T23:10:03.982Z  success  \n",
       "\n",
       "[1 rows x 22 columns]"
      ]
     },
     "execution_count": 4,
     "metadata": {},
     "output_type": "execute_result"
    }
   ],
   "source": [
    "df"
   ]
  },
  {
   "cell_type": "code",
   "execution_count": 7,
   "id": "1d0f85e8",
   "metadata": {},
   "outputs": [
    {
     "name": "stdout",
     "output_type": "stream",
     "text": [
      "{'url': 'https://img4.idealista.pt/blur/WEB_DETAIL/0/id.pro.pt.image.master/e4/98/58/293617006.jpg', 'title': 'Imagem Vistas de apartamento t4 em Avenida Rio de Janeiro, 58', 'description': 'Vistas', 'tag': 'Vistas', 'isPlan': False}\n",
      "{'url': 'https://img4.idealista.pt/blur/WEB_DETAIL/0/id.pro.pt.image.master/ba/09/6e/292535028.jpg', 'title': 'Imagem Divisão de apartamento t4 em Avenida Rio de Janeiro, 58', 'description': 'Divisão', 'tag': 'Divisão', 'isPlan': False}\n",
      "{'url': 'https://img4.idealista.pt/blur/WEB_DETAIL/0/id.pro.pt.image.master/da/77/fe/292535029.jpg', 'title': 'Imagem Cozinha de apartamento t4 em Avenida Rio de Janeiro, 58', 'description': 'Cozinha', 'tag': 'Cozinha', 'isPlan': False}\n",
      "{'url': 'https://img4.idealista.pt/blur/WEB_DETAIL/0/id.pro.pt.image.master/73/fd/33/292534965.jpg', 'title': 'Imagem Vistas de apartamento t4 em Avenida Rio de Janeiro, 58', 'description': 'Vistas', 'tag': 'Vistas', 'isPlan': False}\n",
      "{'url': 'https://img4.idealista.pt/blur/WEB_DETAIL/0/id.pro.pt.image.master/be/7a/6f/292535030.jpg', 'title': 'Imagem Corredor de apartamento t4 em Avenida Rio de Janeiro, 58', 'description': 'Corredor', 'tag': 'Corredor', 'isPlan': False}\n",
      "{'url': 'https://img4.idealista.pt/blur/WEB_DETAIL/0/id.pro.pt.image.master/37/9e/f5/292535031.jpg', 'title': 'Imagem Cozinha de apartamento t4 em Avenida Rio de Janeiro, 58', 'description': 'Cozinha', 'tag': 'Cozinha', 'isPlan': False}\n",
      "{'url': 'https://img4.idealista.pt/blur/WEB_DETAIL/0/id.pro.pt.image.master/19/7e/df/292535032.jpg', 'title': 'Imagem Corredor de apartamento t4 em Avenida Rio de Janeiro, 58', 'description': 'Corredor', 'tag': 'Corredor', 'isPlan': False}\n",
      "{'url': 'https://img4.idealista.pt/blur/WEB_DETAIL/0/id.pro.pt.image.master/2c/c6/ec/292534315.jpg', 'title': 'Imagem Divisão de apartamento t4 em Avenida Rio de Janeiro, 58', 'description': 'Divisão', 'tag': 'Divisão', 'isPlan': False}\n",
      "{'url': 'https://img4.idealista.pt/blur/WEB_DETAIL/0/id.pro.pt.image.master/b8/7d/0a/292535033.jpg', 'title': 'Imagem Divisão de apartamento t4 em Avenida Rio de Janeiro, 58', 'description': 'Divisão', 'tag': 'Divisão', 'isPlan': False}\n",
      "{'url': 'https://img4.idealista.pt/blur/WEB_DETAIL/0/id.pro.pt.image.master/6d/43/8d/292535034.jpg', 'title': 'Imagem Divisão de apartamento t4 em Avenida Rio de Janeiro, 58', 'description': 'Divisão', 'tag': 'Divisão', 'isPlan': False}\n",
      "{'url': 'https://img4.idealista.pt/blur/WEB_DETAIL/0/id.pro.pt.image.master/af/8c/0a/292534966.jpg', 'title': 'Imagem Divisão de apartamento t4 em Avenida Rio de Janeiro, 58', 'description': 'Divisão', 'tag': 'Divisão', 'isPlan': False}\n",
      "{'url': 'https://img4.idealista.pt/blur/WEB_DETAIL/0/id.pro.pt.image.master/53/56/fb/292535035.jpg', 'title': 'Imagem Corredor de apartamento t4 em Avenida Rio de Janeiro, 58', 'description': 'Corredor', 'tag': 'Corredor', 'isPlan': False}\n",
      "{'url': 'https://img4.idealista.pt/blur/WEB_DETAIL/0/id.pro.pt.image.master/78/d9/14/292535036.jpg', 'title': 'Imagem Divisão de apartamento t4 em Avenida Rio de Janeiro, 58', 'description': 'Divisão', 'tag': 'Divisão', 'isPlan': False}\n",
      "{'url': 'https://img4.idealista.pt/blur/WEB_DETAIL/0/id.pro.pt.image.master/b3/65/97/292535037.jpg', 'title': 'Imagem Divisão de apartamento t4 em Avenida Rio de Janeiro, 58', 'description': 'Divisão', 'tag': 'Divisão', 'isPlan': False}\n",
      "{'url': 'https://img4.idealista.pt/blur/WEB_DETAIL/0/id.pro.pt.image.master/45/4f/bf/293617209.jpg', 'title': 'Imagem Varanda de apartamento t4 em Avenida Rio de Janeiro, 58', 'description': 'Varanda', 'tag': 'Varanda', 'isPlan': False}\n",
      "{'url': 'https://img4.idealista.pt/blur/WEB_DETAIL/0/id.pro.pt.image.master/51/5e/95/293617217.jpg', 'title': 'Imagem Divisão de apartamento t4 em Avenida Rio de Janeiro, 58', 'description': 'Divisão', 'tag': 'Divisão', 'isPlan': False}\n",
      "{'url': 'https://img4.idealista.pt/blur/WEB_DETAIL/0/id.pro.pt.image.master/20/1d/bf/293617211.jpg', 'title': 'Imagem Varanda de apartamento t4 em Avenida Rio de Janeiro, 58', 'description': 'Varanda', 'tag': 'Varanda', 'isPlan': False}\n",
      "{'url': 'https://img4.idealista.pt/blur/WEB_DETAIL/0/id.pro.pt.image.master/21/45/78/293617212.jpg', 'title': 'Imagem Divisão de apartamento t4 em Avenida Rio de Janeiro, 58', 'description': 'Divisão', 'tag': 'Divisão', 'isPlan': False}\n",
      "{'url': 'https://img4.idealista.pt/blur/WEB_DETAIL/0/id.pro.pt.image.master/b3/1d/83/293617213.jpg', 'title': 'Imagem Vistas de apartamento t4 em Avenida Rio de Janeiro, 58', 'description': 'Vistas', 'tag': 'Vistas', 'isPlan': False}\n",
      "{'url': 'https://img4.idealista.pt/blur/WEB_DETAIL/0/id.pro.pt.image.master/9f/15/20/292535038.jpg', 'title': 'Imagem Planta de apartamento t4 em Avenida Rio de Janeiro, 58', 'description': 'Planta', 'tag': 'Planta', 'isPlan': True}\n"
     ]
    }
   ],
   "source": [
    "for img_url in df.gallery[0]:\n",
    "    print(img_url)"
   ]
  },
  {
   "cell_type": "code",
   "execution_count": null,
   "id": "5074a000",
   "metadata": {},
   "outputs": [],
   "source": []
  }
 ],
 "metadata": {
  "kernelspec": {
   "display_name": "rehab_houses",
   "language": "python",
   "name": "python3"
  },
  "language_info": {
   "codemirror_mode": {
    "name": "ipython",
    "version": 3
   },
   "file_extension": ".py",
   "mimetype": "text/x-python",
   "name": "python",
   "nbconvert_exporter": "python",
   "pygments_lexer": "ipython3",
   "version": "3.12.0"
  }
 },
 "nbformat": 4,
 "nbformat_minor": 5
}
